{
 "cells": [
  {
   "cell_type": "markdown",
   "metadata": {},
   "source": [
    "### format_for_list"
   ]
  },
  {
   "cell_type": "code",
   "execution_count": 4,
   "metadata": {},
   "outputs": [
    {
     "name": "stdout",
     "output_type": "stream",
     "text": [
      "대건이는 윤기와 찬빈를 좋아한다.\n"
     ]
    }
   ],
   "source": [
    "s = '{}이는 {}와 {}를 좋아한다.'\n",
    "f = s.format('대건', '윤기', '찬빈')\n",
    "print(f)"
   ]
  },
  {
   "cell_type": "code",
   "execution_count": 21,
   "metadata": {},
   "outputs": [
    {
     "name": "stdout",
     "output_type": "stream",
     "text": [
      "석찬이는 30103번이고 인천시 연수구에 살고있다.\n"
     ]
    }
   ],
   "source": [
    "name = '석찬'\n",
    "num = 30103\n",
    "add = '인천시 연수구'\n",
    "\n",
    "s = '{}이는 {}번이고 {}에 살고있다.'\n",
    "f = s.format(name, num, add)\n",
    "print(f)"
   ]
  },
  {
   "cell_type": "code",
   "execution_count": 10,
   "metadata": {},
   "outputs": [
    {
     "name": "stdout",
     "output_type": "stream",
     "text": [
      "대건이는 윤기와 찬빈를 좋아한다.\n"
     ]
    }
   ],
   "source": [
    "s = '{}이는 {}와 {}를 좋아한다.'\n",
    "f = s.format('대건', '윤기', '찬빈')\n",
    "print(f)"
   ]
  },
  {
   "cell_type": "code",
   "execution_count": 23,
   "metadata": {},
   "outputs": [
    {
     "name": "stdout",
     "output_type": "stream",
     "text": [
      "이름 학번 주소>>> 대범 30305 인천시연수구\n"
     ]
    }
   ],
   "source": [
    "stu = input('이름 학번 주소>>> ').split()"
   ]
  },
  {
   "cell_type": "code",
   "execution_count": 16,
   "metadata": {},
   "outputs": [
    {
     "data": {
      "text/plain": [
       "['대범', '30305', '인천시연수구']"
      ]
     },
     "execution_count": 16,
     "metadata": {},
     "output_type": "execute_result"
    }
   ],
   "source": [
    "stu"
   ]
  },
  {
   "cell_type": "code",
   "execution_count": 22,
   "metadata": {},
   "outputs": [
    {
     "name": "stdout",
     "output_type": "stream",
     "text": [
      "대범이는 30305번이고 인천시연수구에 살고있다.\n"
     ]
    }
   ],
   "source": [
    "s = '{}이는 {}번이고 {}에 살고있다.'\n",
    "f = s.format(stu[0], stu[1], stu[2])\n",
    "print(f)\n"
   ]
  },
  {
   "cell_type": "markdown",
   "metadata": {},
   "source": [
    "### [문제1] 다음과 같은 양식으로 입력받아 출력하기\n",
    "- 햄버거/2개/4달라 입력하면\n",
    "- 햄버거 2개 값은 8달라입니다."
   ]
  },
  {
   "cell_type": "code",
   "execution_count": 39,
   "metadata": {},
   "outputs": [
    {
     "name": "stdout",
     "output_type": "stream",
     "text": [
      "주문 갯수 가격>>> 햄버거 2 4\n"
     ]
    }
   ],
   "source": [
    "food = input('주문 갯수 가격>>> ').split()"
   ]
  },
  {
   "cell_type": "code",
   "execution_count": 41,
   "metadata": {},
   "outputs": [
    {
     "data": {
      "text/plain": [
       "['햄버거', '2', '4']"
      ]
     },
     "execution_count": 41,
     "metadata": {},
     "output_type": "execute_result"
    }
   ],
   "source": [
    "food"
   ]
  },
  {
   "cell_type": "code",
   "execution_count": 48,
   "metadata": {},
   "outputs": [
    {
     "name": "stdout",
     "output_type": "stream",
     "text": [
      "[][]개값은 []달라입니다.\n"
     ]
    }
   ],
   "source": [
    "s = '[][]개값은 []달라입니다.'\n",
    "f = s.format(food[0], food[1], food[2])\n",
    "print(f)"
   ]
  },
  {
   "cell_type": "code",
   "execution_count": 54,
   "metadata": {},
   "outputs": [
    {
     "name": "stdout",
     "output_type": "stream",
     "text": [
      "20년도 인천여고 0.5퍼센트\n"
     ]
    }
   ],
   "source": [
    "info = '%d년도 %s여고 %0.1f퍼센트'\n",
    "pr = info%(20, '인천', 0.5)\n",
    "print(pr)"
   ]
  },
  {
   "cell_type": "markdown",
   "metadata": {},
   "source": [
    "### [문제2]햄버거 2개는 8달라이다.\n",
    "- 햄버거\n",
    "- 2\n",
    "- 2 * 4"
   ]
  },
  {
   "cell_type": "code",
   "execution_count": 58,
   "metadata": {},
   "outputs": [
    {
     "name": "stdout",
     "output_type": "stream",
     "text": [
      "햄버거 2개는 8달라이다.\n"
     ]
    }
   ],
   "source": [
    "info = '%s %d개는 %d달라이다.'\n",
    "fd = info%('햄버거',2 , 2 * 4)\n",
    "print(fd)"
   ]
  },
  {
   "cell_type": "markdown",
   "metadata": {},
   "source": [
    "### List"
   ]
  },
  {
   "cell_type": "code",
   "execution_count": 64,
   "metadata": {},
   "outputs": [
    {
     "data": {
      "text/plain": [
       "['성곤', '대건', '대범', '호정']"
      ]
     },
     "execution_count": 64,
     "metadata": {},
     "output_type": "execute_result"
    }
   ],
   "source": [
    "arr = ['성곤', '대건', '대범','호정']\n",
    "arr"
   ]
  },
  {
   "cell_type": "code",
   "execution_count": 66,
   "metadata": {},
   "outputs": [
    {
     "data": {
      "text/plain": [
       "4"
      ]
     },
     "execution_count": 66,
     "metadata": {},
     "output_type": "execute_result"
    }
   ],
   "source": [
    "len(arr)"
   ]
  },
  {
   "cell_type": "code",
   "execution_count": 69,
   "metadata": {},
   "outputs": [
    {
     "name": "stdout",
     "output_type": "stream",
     "text": [
      "5\n",
      "4\n",
      "3\n",
      "2\n",
      "1\n"
     ]
    },
    {
     "data": {
      "text/plain": [
       "[range(1, 6)]"
      ]
     },
     "execution_count": 69,
     "metadata": {},
     "output_type": "execute_result"
    }
   ],
   "source": [
    "for i in range(5,0, -1) :\n",
    "    print(i)\n",
    "[range(1,6)]"
   ]
  },
  {
   "cell_type": "code",
   "execution_count": 71,
   "metadata": {},
   "outputs": [
    {
     "name": "stdout",
     "output_type": "stream",
     "text": [
      "성곤\n",
      "대건\n",
      "대범\n",
      "호정\n"
     ]
    }
   ],
   "source": [
    "for i in arr :\n",
    "    print(i)"
   ]
  },
  {
   "cell_type": "code",
   "execution_count": 76,
   "metadata": {},
   "outputs": [
    {
     "name": "stdout",
     "output_type": "stream",
     "text": [
      "성곤\n",
      "대건\n",
      "대범\n",
      "호정\n"
     ]
    }
   ],
   "source": [
    "for i in range(len(arr)) :\n",
    "    print(arr[i])"
   ]
  },
  {
   "cell_type": "code",
   "execution_count": 83,
   "metadata": {},
   "outputs": [
    {
     "ename": "SyntaxError",
     "evalue": "invalid syntax (<ipython-input-83-81fced72c6f0>, line 1)",
     "output_type": "error",
     "traceback": [
      "\u001b[1;36m  File \u001b[1;32m\"<ipython-input-83-81fced72c6f0>\"\u001b[1;36m, line \u001b[1;32m1\u001b[0m\n\u001b[1;33m    for i, val in range enumerate(arr) :\u001b[0m\n\u001b[1;37m                                ^\u001b[0m\n\u001b[1;31mSyntaxError\u001b[0m\u001b[1;31m:\u001b[0m invalid syntax\n"
     ]
    }
   ],
   "source": [
    "for i, val in range enumerate(arr) :\n",
    "    print(i, val)"
   ]
  },
  {
   "cell_type": "markdown",
   "metadata": {},
   "source": [
    "### [문제1] 30부터 50까지 출력해보기"
   ]
  },
  {
   "cell_type": "code",
   "execution_count": 87,
   "metadata": {},
   "outputs": [
    {
     "name": "stdout",
     "output_type": "stream",
     "text": [
      "30\n",
      "31\n",
      "32\n",
      "33\n",
      "34\n",
      "35\n",
      "36\n",
      "37\n",
      "38\n",
      "39\n",
      "40\n",
      "41\n",
      "42\n",
      "43\n",
      "44\n",
      "45\n",
      "46\n",
      "47\n",
      "48\n",
      "49\n",
      "50\n"
     ]
    }
   ],
   "source": [
    "for i in range(30, 51) :\n",
    "    print(i)"
   ]
  },
  {
   "cell_type": "markdown",
   "metadata": {},
   "source": [
    "### [문제2] 30부터 50까지 중에서 홀수만 출력해보기"
   ]
  },
  {
   "cell_type": "code",
   "execution_count": 86,
   "metadata": {},
   "outputs": [
    {
     "name": "stdout",
     "output_type": "stream",
     "text": [
      "1\n",
      "3\n",
      "5\n",
      "7\n",
      "9\n",
      "11\n",
      "13\n",
      "15\n",
      "17\n",
      "19\n",
      "21\n",
      "23\n",
      "25\n",
      "27\n",
      "29\n",
      "31\n",
      "33\n",
      "35\n",
      "37\n",
      "39\n",
      "41\n",
      "43\n",
      "45\n",
      "47\n",
      "49\n"
     ]
    }
   ],
   "source": [
    "for i in range(1, 51):\n",
    "    if i%2!=0 :\n",
    "        print(i)"
   ]
  },
  {
   "cell_type": "markdown",
   "metadata": {},
   "source": [
    "### [문제3] 30부터 50까지 중에서 홀수만 더해서 sum에 넣고 출력"
   ]
  },
  {
   "cell_type": "code",
   "execution_count": 104,
   "metadata": {},
   "outputs": [
    {
     "name": "stdout",
     "output_type": "stream",
     "text": [
      "440\n"
     ]
    }
   ],
   "source": [
    "sum = 0\n",
    "for i in range(30, 51) :\n",
    "    if i%2 != 1 :\n",
    "        sum = sum + i\n",
    "print(sum)"
   ]
  },
  {
   "cell_type": "markdown",
   "metadata": {},
   "source": [
    "### [문제4] 1부터 10까지 중에서 짝수이면 파이썬 홀수이면 야 너도 할수 있어 출력"
   ]
  },
  {
   "cell_type": "code",
   "execution_count": 99,
   "metadata": {},
   "outputs": [
    {
     "name": "stdout",
     "output_type": "stream",
     "text": [
      "1 야 너도 할수 있어\n",
      "2 파이썬\n",
      "3 야 너도 할수 있어\n",
      "4 파이썬\n",
      "5 야 너도 할수 있어\n",
      "6 파이썬\n",
      "7 야 너도 할수 있어\n",
      "8 파이썬\n",
      "9 야 너도 할수 있어\n",
      "10 파이썬\n"
     ]
    }
   ],
   "source": [
    "for i in range(1, 11):\n",
    "    if i%2!=1 :\n",
    "        print(i,'파이썬')\n",
    "    if i%2!=0 :\n",
    "        print(i, \"야 너도 할수 있어\")"
   ]
  }
 ],
 "metadata": {
  "kernelspec": {
   "display_name": "Python 3",
   "language": "python",
   "name": "python3"
  },
  "language_info": {
   "codemirror_mode": {
    "name": "ipython",
    "version": 3
   },
   "file_extension": ".py",
   "mimetype": "text/x-python",
   "name": "python",
   "nbconvert_exporter": "python",
   "pygments_lexer": "ipython3",
   "version": "3.7.4"
  }
 },
 "nbformat": 4,
 "nbformat_minor": 2
}
